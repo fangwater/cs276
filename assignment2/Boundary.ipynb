{
 "cells": [
  {
   "cell_type": "code",
   "execution_count": 1,
   "metadata": {},
   "outputs": [],
   "source": [
    "import scipy.sparse\n",
    "\n",
    "def laplacian_matrix(n, m):   \n",
    "    mat_D = scipy.sparse.lil_matrix((m, m))\n",
    "    mat_D.setdiag(-1, -1)\n",
    "    mat_D.setdiag(4)\n",
    "    mat_D.setdiag(-1, 1)\n",
    "        \n",
    "    mat_A = scipy.sparse.block_diag([mat_D] * n).tolil()\n",
    "    \n",
    "    mat_A.setdiag(-1, 1*m)\n",
    "    mat_A.setdiag(-1, -1*m)\n",
    "    \n",
    "    return mat_A\n",
    "\n",
    "laplacian_matrix(3, 3).todense()"
   ]
  },
  {
   "cell_type": "code",
   "execution_count": 2,
   "metadata": {},
   "outputs": [],
   "source": [
    "import cv2\n",
    "import numpy as np\n",
    "import matplotlib.pyplot as plt\n",
    "import copy\n",
    "%matplotlib inline\n",
    "\n",
    "source = cv2.imread(\"source1.jpg\") \n",
    "target = cv2.imread(\"target1.jpg\")\n",
    "mask = cv2.imread(\"mask1.png\", cv2.IMREAD_GRAYSCALE) \n",
    "offset = (0,60)"
   ]
  },
  {
   "cell_type": "code",
   "execution_count": 3,
   "metadata": {},
   "outputs": [],
   "source": [
    "New_mask = np.zeros(target.shape,dtype=np.uint8)"
   ]
  },
  {
   "cell_type": "code",
   "execution_count": 4,
   "metadata": {},
   "outputs": [],
   "source": [
    "target.shape"
   ]
  },
  {
   "cell_type": "code",
   "execution_count": 5,
   "metadata": {},
   "outputs": [],
   "source": [
    "for x in range(mask.shape[1]):\n",
    "    for y in range(mask.shape[0]):\n",
    "        x_ = x+offset[0]\n",
    "        y_ = y+offset[1]\n",
    "        New_mask[y_][x_] = mask[y_][x_]"
   ]
  },
  {
   "cell_type": "code",
   "execution_count": 6,
   "metadata": {},
   "outputs": [],
   "source": [
    "import cv2\n",
    "import numpy as np\n",
    "import matplotlib.pyplot as plt\n",
    "import copy\n",
    "%matplotlib inline\n",
    "\n",
    "source = cv2.imread(\"source1.jpg\") \n",
    "target = cv2.imread(\"target1.jpg\")\n",
    "mask = cv2.imread(\"mask1.png\", cv2.IMREAD_GRAYSCALE) \n",
    "offset = (0,20)"
   ]
  },
  {
   "cell_type": "code",
   "execution_count": 7,
   "metadata": {},
   "outputs": [],
   "source": [
    "for x in range(mask.shape[1]):\n",
    "    for y in range(mask.shape[0]):\n",
    "        x_ = x+offset[0]\n",
    "        y_ = y+offset[1]\n",
    "        New_mask[y_][x_] = mask[y_][x_]"
   ]
  },
  {
   "cell_type": "code",
   "execution_count": 8,
   "metadata": {},
   "outputs": [],
   "source": [
    "for x in range(mask.shape[1]):\n",
    "    for y in range(mask.shape[0]):\n",
    "        x_ = x+offset[0]\n",
    "        y_ = y+offset[1]\n",
    "        New_mask[y_][x_] = mask[y_][x_]"
   ]
  },
  {
   "cell_type": "code",
   "execution_count": 9,
   "metadata": {},
   "outputs": [],
   "source": [
    "New_mask.shape  "
   ]
  },
  {
   "cell_type": "code",
   "execution_count": 10,
   "metadata": {},
   "outputs": [],
   "source": [
    "mask.shape"
   ]
  },
  {
   "cell_type": "code",
   "execution_count": 11,
   "metadata": {},
   "outputs": [],
   "source": [
    "import cv2\n",
    "import numpy as np\n",
    "import matplotlib.pyplot as plt\n",
    "import copy\n",
    "%matplotlib inline\n",
    "\n",
    "source = cv2.imread(\"s.png\") \n",
    "target = cv2.imread(\"t.png\")\n",
    "mask = cv2.imread(\"Mask.png\", cv2.IMREAD_GRAYSCALE) \n",
    "offset = (0,20)"
   ]
  },
  {
   "cell_type": "code",
   "execution_count": 12,
   "metadata": {},
   "outputs": [],
   "source": [
    "New_mask.shape  "
   ]
  },
  {
   "cell_type": "code",
   "execution_count": 13,
   "metadata": {},
   "outputs": [],
   "source": [
    "for x in range(mask.shape[1]):\n",
    "    for y in range(mask.shape[0]):\n",
    "        x_ = x+offset[0]\n",
    "        y_ = y+offset[1]\n",
    "        New_mask[y_][x_] = mask[y_][x_]"
   ]
  },
  {
   "cell_type": "code",
   "execution_count": 14,
   "metadata": {},
   "outputs": [],
   "source": [
    "New_mask = np.zeros(target.shape,dtype=np.uint8)"
   ]
  },
  {
   "cell_type": "code",
   "execution_count": 15,
   "metadata": {},
   "outputs": [],
   "source": [
    "for x in range(mask.shape[1]):\n",
    "    for y in range(mask.shape[0]):\n",
    "        x_ = x+offset[0]\n",
    "        y_ = y+offset[1]\n",
    "        New_mask[y_][x_] = mask[y_][x_]"
   ]
  },
  {
   "cell_type": "code",
   "execution_count": 16,
   "metadata": {},
   "outputs": [],
   "source": [
    "mask.shape"
   ]
  },
  {
   "cell_type": "code",
   "execution_count": 17,
   "metadata": {},
   "outputs": [],
   "source": [
    "New_mask.shape  "
   ]
  },
  {
   "cell_type": "code",
   "execution_count": 18,
   "metadata": {},
   "outputs": [],
   "source": [
    "import cv2\n",
    "import numpy as np\n",
    "import matplotlib.pyplot as plt\n",
    "import copy\n",
    "%matplotlib inline\n",
    "\n",
    "source = cv2.imread(\"s.png\") \n",
    "target = cv2.imread(\"t.png\")\n",
    "mask = cv2.imread(\"Mask.png\", cv2.IMREAD_GRAYSCALE) \n",
    "offset = (0,0)"
   ]
  },
  {
   "cell_type": "code",
   "execution_count": 19,
   "metadata": {},
   "outputs": [],
   "source": [
    "for x in range(mask.shape[1]):\n",
    "    for y in range(mask.shape[0]):\n",
    "        x_ = x+offset[0]\n",
    "        y_ = y+offset[1]\n",
    "        New_mask[y_][x_] = mask[y_][x_]"
   ]
  },
  {
   "cell_type": "code",
   "execution_count": 20,
   "metadata": {},
   "outputs": [],
   "source": [
    "plt.imshow(New_mask)"
   ]
  },
  {
   "cell_type": "code",
   "execution_count": 21,
   "metadata": {},
   "outputs": [],
   "source": [
    "plt.imshow(target)"
   ]
  },
  {
   "cell_type": "code",
   "execution_count": 22,
   "metadata": {},
   "outputs": [],
   "source": [
    "plt.imshow(source)"
   ]
  },
  {
   "cell_type": "code",
   "execution_count": 23,
   "metadata": {},
   "outputs": [],
   "source": [
    "y_max, x_max = resized.shape[:-1]\n",
    "y_min, x_min = 0, 0\n",
    "x_range = x_max - x_min\n",
    "y_range = y_max - y_min\n",
    "\n",
    "M = np.float32([[1, 0, offset[0]], [0, 1, offset[1]]])\n",
    "source = cv2.warpAffine(source, M, (x_range, y_range))\n",
    "\n",
    "print('Source image size:', source.shape[:-1])\n",
    "plt.imshow(source[:,:,::-1]) \n",
    "plt.show()"
   ]
  },
  {
   "cell_type": "code",
   "execution_count": 24,
   "metadata": {},
   "outputs": [],
   "source": [
    "y_max, x_max = source.shape[:-1]\n",
    "y_min, x_min = 0, 0\n",
    "x_range = x_max - x_min\n",
    "y_range = y_max - y_min\n",
    "\n",
    "M = np.float32([[1, 0, offset[0]], [0, 1, offset[1]]])\n",
    "source = cv2.warpAffine(source, M, (x_range, y_range))\n",
    "\n",
    "print('Source image size:', source.shape[:-1])\n",
    "plt.imshow(source[:,:,::-1]) \n",
    "plt.show()"
   ]
  },
  {
   "cell_type": "code",
   "execution_count": 25,
   "metadata": {},
   "outputs": [],
   "source": [
    "import cv2\n",
    "import numpy as np\n",
    "import matplotlib.pyplot as plt\n",
    "import copy\n",
    "%matplotlib inline\n",
    "\n",
    "source = cv2.imread(\"s.png\") \n",
    "target = cv2.imread(\"t.png\")\n",
    "mask = cv2.imread(\"Mask.png\", cv2.IMREAD_GRAYSCALE) \n",
    "offset = (0,0)\n",
    "print('Source image size:', source.shape[:-1])\n",
    "plt.imshow(source[:,:,::-1]) # this is a trick to display the image in here \n",
    "plt.show()\n",
    "print('Target image size:', target.shape[:-1])\n",
    "plt.imshow(target[:,:,::-1])\n",
    "plt.show()\n",
    "print('Mask size:', mask.shape)\n",
    "plt.imshow(mask, cmap='gray')\n",
    "plt.show()"
   ]
  },
  {
   "cell_type": "code",
   "execution_count": 26,
   "metadata": {},
   "outputs": [],
   "source": [
    "Target = cv2.resize(Target,[500,404])"
   ]
  },
  {
   "cell_type": "code",
   "execution_count": 27,
   "metadata": {},
   "outputs": [],
   "source": [
    "target = cv2.resize(target,[500,404])"
   ]
  },
  {
   "cell_type": "code",
   "execution_count": 28,
   "metadata": {},
   "outputs": [],
   "source": [
    "target = cv2.resize(target,[500,404],interpolation = cv2.INTER_AREA)"
   ]
  },
  {
   "cell_type": "code",
   "execution_count": 29,
   "metadata": {},
   "outputs": [],
   "source": [
    "target = cv2.resize(target,(500,404),interpolation = cv2.INTER_AREA)"
   ]
  },
  {
   "cell_type": "code",
   "execution_count": 30,
   "metadata": {},
   "outputs": [],
   "source": [
    "target = cv2.resize(target,(337,404),interpolation = cv2.INTER_AREA)"
   ]
  }
 ],
 "metadata": {},
 "nbformat": 4,
 "nbformat_minor": 4
}
